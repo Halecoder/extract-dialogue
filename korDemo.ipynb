{
 "cells": [
  {
   "cell_type": "code",
   "execution_count": 16,
   "metadata": {},
   "outputs": [],
   "source": [
    "from OpenAI_LLM import OpenAI_LLM\n",
    "from kor.extraction import create_extraction_chain\n",
    "from kor.nodes import Object, Text, Number\n",
    "import tiktoken\n",
    "import json\n",
    "enc = tiktoken.get_encoding(\"cl100k_base\")"
   ]
  },
  {
   "cell_type": "code",
   "execution_count": 19,
   "metadata": {},
   "outputs": [],
   "source": [
    "schema = Object(\n",
    "    id=\"script\",\n",
    "    description=\"Adapted from the novel into script\",\n",
    "    attributes=[\n",
    "        Text(\n",
    "            id=\"role\",\n",
    "            description=\"The character who is speaking\",\n",
    "        ),\n",
    "        Text(\n",
    "            id=\"dialogue\",\n",
    "            description=\"The dialogue spoken by the characters in the sentence\",\n",
    "        )\n",
    "    ],\n",
    "    examples=[\n",
    "        (\n",
    "            '''\n",
    "            他下意识放轻了脚步，不制造出明显的噪音。\n",
    "            刚登上二楼，他看见盥洗室的门突然打开，穿着旧布长裙的梅丽莎一副睡眼惺忪的模样出来。\n",
    "            “你回来了……”梅丽莎还有些迷糊地揉了揉眼睛。\n",
    "            克莱恩掩住嘴巴，打了个哈欠道：\n",
    "            “是的，我需要一个美好的梦境，午餐之前都不要叫醒我。”\n",
    "            梅丽莎“嗯”了一声，忽然想起什么似地说道：\n",
    "            “我和班森上午要去圣赛琳娜教堂做祈祷，参与弥撒，午餐可能会迟一点。”\n",
    "            ''',\n",
    "            [\n",
    "                {\"role\": \"梅丽莎\", \"dialogue\": \"你回来了……\"},\n",
    "                {\"role\": \"克莱恩\", \"dialogue\": \"是的，我需要一个美好的梦境，午餐之前都不要叫醒我。\"},\n",
    "                {\"role\": \"梅丽莎\", \"dialogue\":\"我和班森上午要去圣赛琳娜教堂做祈祷，参与弥撒，午餐可能会迟一点。\"}\n",
    "            ],\n",
    "        ),\n",
    "        (\n",
    "            '''\n",
    "            “太感谢您了！‘愚者’先生您真是太慷慨了！”奥黛丽欣喜地回应道。\n",
    "            她为自己刚才想用金钱购买消息的庸俗忏悔了三秒。\n",
    "            克莱恩停止手指的敲动，语气平淡地描述道：\n",
    "            “第一个常识，非凡特性不灭定律，非凡特性不会毁灭，不会减少，只是从一个事物转移到另一个事物。”\n",
    "            我不知不觉竟然用上了队长的口吻……克莱恩的嘴角下意识就翘了起来。\n",
    "            ''',\n",
    "            [\n",
    "                {\"role\": \"奥黛丽\", \"dialogue\": \"太感谢您了！‘愚者’先生您真是太慷慨了！\"},\n",
    "                {\"role\": \"克莱恩\", \"dialogue\": \"第一个常识，非凡特性不灭定律，非凡特性不会毁灭，不会减少，只是从一个事物转移到另一个事物。\"},\n",
    "            ],\n",
    "        )\n",
    "    ],\n",
    "    many=True,\n",
    ")\n"
   ]
  },
  {
   "cell_type": "code",
   "execution_count": 20,
   "metadata": {},
   "outputs": [],
   "source": [
    "text = \"\"\"\n",
    "    坐在他们后面那个沙发区域的几位会员则在一位疑似股票经纪人的男士引导下，讨论着最新的西部铁路股票和东拜朗种植园股票。\n",
    "\n",
    "    对克莱恩的回答，塔利姆没有任何怀疑，呵呵笑道：\n",
    "\n",
    "    “这果然是大侦探忙碌的事情。”\n",
    "\n",
    "    寒暄了几句后，他逐渐进入了一种若有所思的状态。\n",
    "\n",
    "    就在克莱恩打算告辞去地下靶场时，塔利姆突然望向他道：\n",
    "\n",
    "    “莫里亚蒂先生，我能请教一个问题吗？”\n",
    "\n",
    "    “嗯，你可以收咨询费。”\n",
    "\n",
    "    “这单免费，还有，叫我夏洛克就行了。”克莱恩哈哈一笑道。\n",
    "\n",
    "    塔利姆轻轻点了下头，犹豫着说道：\n",
    "\n",
    "    “我有个朋友，爱上了不该爱的人，这种情况该怎么处理？”\n",
    "\n",
    "    虽然我一直认为，询问类似的问题时，“我有个朋友”就等于“我自己”，但塔利姆的情绪颜色说明不是他本人，他很为难，但却看不见丝毫的痛苦……开启了灵视的克莱恩往后微靠，双手交握道：\n",
    "\n",
    "    “很抱歉，我不是心理医生，也不是报纸杂志上那些擅于解决情感问题的专家。”\n",
    "\n",
    "    “我唯一的建议是，不要犯法。”\n",
    "\"\"\""
   ]
  },
  {
   "cell_type": "code",
   "execution_count": 21,
   "metadata": {},
   "outputs": [],
   "source": [
    "llm = OpenAI_LLM()\n",
    "chain = create_extraction_chain(llm, schema)"
   ]
  },
  {
   "cell_type": "code",
   "execution_count": 22,
   "metadata": {},
   "outputs": [
    {
     "name": "stdout",
     "output_type": "stream",
     "text": [
      "Your goal is to extract structured information from the user's input that matches the form described below. When extracting information please make sure it matches the type information exactly. Do not add any attributes that do not appear in the schema shown below.\n",
      "\n",
      "```TypeScript\n",
      "\n",
      "script: Array<{ // Adapted from the novel into script\n",
      " role: string // The character who is speaking\n",
      " dialogue: string // The dialogue spoken by the characters in the sentence\n",
      "}>\n",
      "```\n",
      "\n",
      "\n",
      "Please output the extracted information in CSV format in Excel dialect. Please use a | as the delimiter. \n",
      " Do NOT add any clarifying information. Output MUST follow the schema above. Do NOT add any additional columns that do not appear in the schema.\n",
      "\n",
      "\n",
      "\n",
      "Input: \n",
      "            他下意识放轻了脚步，不制造出明显的噪音。\n",
      "            刚登上二楼，他看见盥洗室的门突然打开，穿着旧布长裙的梅丽莎一副睡眼惺忪的模样出来。\n",
      "            “你回来了……”梅丽莎还有些迷糊地揉了揉眼睛。\n",
      "            克莱恩掩住嘴巴，打了个哈欠道：\n",
      "            “是的，我需要一个美好的梦境，午餐之前都不要叫醒我。”\n",
      "            梅丽莎“嗯”了一声，忽然想起什么似地说道：\n",
      "            “我和班森上午要去圣赛琳娜教堂做祈祷，参与弥撒，午餐可能会迟一点。”\n",
      "            \n",
      "Output: role|dialogue\n",
      "梅丽莎|你回来了……\n",
      "克莱恩|是的，我需要一个美好的梦境，午餐之前都不要叫醒我。\n",
      "梅丽莎|我和班森上午要去圣赛琳娜教堂做祈祷，参与弥撒，午餐可能会迟一点。\n",
      "\n",
      "Input: \n",
      "            “太感谢您了！‘愚者’先生您真是太慷慨了！”奥黛丽欣喜地回应道。\n",
      "            她为自己刚才想用金钱购买消息的庸俗忏悔了三秒。\n",
      "            克莱恩停止手指的敲动，语气平淡地描述道：\n",
      "            “第一个常识，非凡特性不灭定律，非凡特性不会毁灭，不会减少，只是从一个事物转移到另一个事物。”\n",
      "            我不知不觉竟然用上了队长的口吻……克莱恩的嘴角下意识就翘了起来。\n",
      "            \n",
      "Output: role|dialogue\n",
      "奥黛丽|太感谢您了！‘愚者’先生您真是太慷慨了！\n",
      "克莱恩|第一个常识，非凡特性不灭定律，非凡特性不会毁灭，不会减少，只是从一个事物转移到另一个事物。\n",
      "\n",
      "Input: [user input]\n",
      "Output:\n"
     ]
    }
   ],
   "source": [
    "print(chain.prompt.format_prompt(text=\"[user input]\").to_string())"
   ]
  }
 ],
 "metadata": {
  "kernelspec": {
   "display_name": "gpt",
   "language": "python",
   "name": "gpt"
  },
  "language_info": {
   "codemirror_mode": {
    "name": "ipython",
    "version": 3
   },
   "file_extension": ".py",
   "mimetype": "text/x-python",
   "name": "python",
   "nbconvert_exporter": "python",
   "pygments_lexer": "ipython3",
   "version": "3.8.17"
  },
  "orig_nbformat": 4
 },
 "nbformat": 4,
 "nbformat_minor": 2
}
