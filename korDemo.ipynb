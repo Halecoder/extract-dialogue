{
 "cells": [
  {
   "cell_type": "code",
   "execution_count": 8,
   "metadata": {},
   "outputs": [],
   "source": [
    "from OpenAI_LLM import OpenAI_LLM"
   ]
  },
  {
   "cell_type": "code",
   "execution_count": 9,
   "metadata": {},
   "outputs": [],
   "source": [
    "llm = OpenAI_LLM()"
   ]
  },
  {
   "cell_type": "code",
   "execution_count": 10,
   "metadata": {},
   "outputs": [
    {
     "data": {
      "text/plain": [
       "'你好！有什么我可以帮助你的吗？'"
      ]
     },
     "execution_count": 10,
     "metadata": {},
     "output_type": "execute_result"
    }
   ],
   "source": [
    "llm('nihao')"
   ]
  },
  {
   "cell_type": "code",
   "execution_count": 26,
   "metadata": {},
   "outputs": [],
   "source": [
    "from kor.extraction import create_extraction_chain\n",
    "from kor.nodes import Object, Text, Number\n",
    "\n",
    "schema = Object(\n",
    "    id=\"script\",\n",
    "    description=\"Adapted from the novel into script\",\n",
    "    attributes=[\n",
    "        Text(\n",
    "            id=\"role\",\n",
    "            description=\"The character who is speaking or performing an action\",\n",
    "        ),\n",
    "        Text(\n",
    "            id=\"dialogue\",\n",
    "            description=\"The dialogue spoken by the characters in the sentence\",\n",
    "        ),\n",
    "        Text(\n",
    "            id=\"action\",\n",
    "            description='''The actions performed by the characters in the text, A high-level summary of a character's behavior. action equals \"对话\" or \"独白\" if it's dialogue in sentence, equals other action if it's no dialogue''',\n",
    "        )\n",
    "    ],\n",
    "    examples=[\n",
    "        (\n",
    "            '''德妃拈了一枚吹花红宝钿在手中把玩，轻笑道：“难为皇上也没生气，只安慰了瑛贵嫔几句。”我淡淡一笑，拿着一枝玉搔头拨着耳垂，“咱们的皇上是什么性子，生气也未必即刻说出来，何况又是平日里最喜欢的表妹。”''',\n",
    "            [\n",
    "                {\"role\": \"德妃\", \"dialogue\": \"难为皇上也没生气，只安慰了瑛贵嫔几句。\",\"action\":\"轻笑\"},\n",
    "                {\"role\": \"我\", \"dialogue\": \"咱们的皇上是什么性子，生气也未必即刻说出来，何况又是平日里最喜欢的表妹。\",\"action\":\"淡淡一笑\"},\n",
    "            ],\n",
    "        ),\n",
    "        (\n",
    "            '''后宫诸人本就眼红恬嫔的身孕，如此一来更是嫉妒，谨慎如悫妃也颇有微词：“才四个月怎能知道是男是女，臣妾怀皇长子时到六月间太医断出是男胎，皇上也只是按礼制在臣妾初有喜脉时加以封赏晋为贵嫔，并未有其他破例。”而皇后伸手拈了一枚樱桃吃了，方慢慢道：“恬嫔几次三番说有胎动不安的症状，皇上也只是为了安抚她才这样做。为皇家子嗣计，本宫是不会有异议的。”''',\n",
    "            [\n",
    "                {\"role\": \"悫妃\", \"dialogue\": \"才四个月怎能知道是男是女，臣妾怀皇长子时到六月间太医断出是男胎，皇上也只是按礼制在臣妾初有喜脉时加以封赏晋为贵嫔，并未有其他破例。\",\"action\":\"对话\"},\n",
    "                {\"role\": \"皇后\", \"dialogue\": \"恬嫔几次三番说有胎动不安的症状，皇上也只是为了安抚她才这样做。为皇家子嗣计，本宫是不会有异议的。\",\"action\":\"对话\"},\n",
    "            ],\n",
    "        )\n",
    "    ],\n",
    "    many=True,\n",
    ")"
   ]
  },
  {
   "cell_type": "code",
   "execution_count": 15,
   "metadata": {},
   "outputs": [
    {
     "name": "stdout",
     "output_type": "stream",
     "text": [
      "Your goal is to extract structured information from the user's input that matches the form described below. When extracting information please make sure it matches the type information exactly. Do not add any attributes that do not appear in the schema shown below.\n",
      "\n",
      "```TypeScript\n",
      "\n",
      "script: Array<{ // Adapted from the novel into script\n",
      " role: string // The character who is speaking or performing an action\n",
      " dialogue: string // The dialogue spoken by the characters in the sentence\n",
      " action: string // The actions performed by the characters in the text, A high-level summary of a character's behavior. action equals \"对话\" or \"独白\" if it's dialogue in sentence, equals other action if it's no dialogue\n",
      "}>\n",
      "```\n",
      "\n",
      "\n",
      "Please output the extracted information in CSV format in Excel dialect. Please use a | as the delimiter. \n",
      " Do NOT add any clarifying information. Output MUST follow the schema above. Do NOT add any additional columns that do not appear in the schema.\n",
      "\n",
      "\n",
      "\n",
      "Input: 我还记得跟丈夫提出离婚时他那一脸的惊愕表情：“你以为到了你这个岁数，生活还会有新的可能吗？”“我只想按照自己的心意活一次。”他像往常一样脸上露出讥讽的笑纹：“你还想着他。”\n",
      "Output: role|dialogue|action\n",
      "丈夫|你以为到了你这个岁数，生活还会有新的可能吗？|一脸的惊愕\n",
      "我|我只想按照自己的心意活一次。|\n",
      "丈夫|你还想着他。|讥讽的笑纹\n",
      "\n",
      "Input: [user input]\n",
      "Output:\n"
     ]
    }
   ],
   "source": [
    "chain = create_extraction_chain(llm, schema)\n",
    "print(chain.prompt.format_prompt(text=\"[user input]\").to_string())"
   ]
  },
  {
   "cell_type": "code",
   "execution_count": 22,
   "metadata": {},
   "outputs": [],
   "source": [
    "text = '''\n",
    "白衬衣上总是沾着一块无法洗去的油污，头发蓬乱，神色显得有点低迷。他那副模样根本不像个音乐老师，倒像是偶然跑到校园里来的一个流浪艺术家。他比我大十五岁，还是两个孩子的父亲。按说我无论如何都不会爱上这样一个人，他却硬生生地闯进我的梦里。一个女孩喜欢一个男人时总是不管不顾。我跟他说我总是想一个人，想得什么也干不下去，他有点蒙：“是谁？”我说：“是你。”说这话是在一个周末的傍晚，我在他的宿舍门口堵住了他。他抬手挠了挠头发，像不认识似的上下打量了我一眼，嘴角微微朝左侧一歪：“这可不行。”\n",
    "'''"
   ]
  },
  {
   "cell_type": "code",
   "execution_count": 23,
   "metadata": {},
   "outputs": [],
   "source": [
    "response= chain.run(text)"
   ]
  },
  {
   "cell_type": "code",
   "execution_count": 24,
   "metadata": {},
   "outputs": [
    {
     "name": "stdout",
     "output_type": "stream",
     "text": [
      "{'role': '音乐老师', 'dialogue': '白衬衣上总是沾着一块无法洗去的油污，头发蓬乱，神色显得有点低迷。他那副模样根本不像个音乐老师，倒像是偶然跑到校园里来的一个流浪艺术家。', 'action': '无'}\n",
      "{'role': '我', 'dialogue': '他比我大十五岁，还是两个孩子的父亲。按说我无论如何都不会爱上这样一个人，他却硬生生地闯进我的梦里。一个女孩喜欢一个男人时总是不管不顾。', 'action': '无'}\n",
      "{'role': '我', 'dialogue': '我跟他说我总是想一个人，想得什么也干不下去，他有点蒙：“是谁？”我说：“是你。”说这话是在一个周末的傍晚，我在他的宿舍门口堵住了他。', 'action': '无'}\n",
      "{'role': '音乐老师', 'dialogue': '他抬手挠了挠头发，像不认识似的上下打量了我一眼，嘴角微微朝左侧一歪：“这可不行。”', 'action': '无'}\n"
     ]
    }
   ],
   "source": [
    "if 'script' in response['data']:\n",
    "    for item in response['data']['script']:\n",
    "        print(item)"
   ]
  },
  {
   "cell_type": "code",
   "execution_count": 25,
   "metadata": {},
   "outputs": [
    {
     "data": {
      "text/plain": [
       "{'data': {'script': [{'role': '音乐老师',\n",
       "    'dialogue': '白衬衣上总是沾着一块无法洗去的油污，头发蓬乱，神色显得有点低迷。他那副模样根本不像个音乐老师，倒像是偶然跑到校园里来的一个流浪艺术家。',\n",
       "    'action': '无'},\n",
       "   {'role': '我',\n",
       "    'dialogue': '他比我大十五岁，还是两个孩子的父亲。按说我无论如何都不会爱上这样一个人，他却硬生生地闯进我的梦里。一个女孩喜欢一个男人时总是不管不顾。',\n",
       "    'action': '无'},\n",
       "   {'role': '我',\n",
       "    'dialogue': '我跟他说我总是想一个人，想得什么也干不下去，他有点蒙：“是谁？”我说：“是你。”说这话是在一个周末的傍晚，我在他的宿舍门口堵住了他。',\n",
       "    'action': '无'},\n",
       "   {'role': '音乐老师',\n",
       "    'dialogue': '他抬手挠了挠头发，像不认识似的上下打量了我一眼，嘴角微微朝左侧一歪：“这可不行。”',\n",
       "    'action': '无'}]},\n",
       " 'raw': 'role|dialogue|action\\n音乐老师|白衬衣上总是沾着一块无法洗去的油污，头发蓬乱，神色显得有点低迷。他那副模样根本不像个音乐老师，倒像是偶然跑到校园里来的一个流浪艺术家。|无\\n我|他比我大十五岁，还是两个孩子的父亲。按说我无论如何都不会爱上这样一个人，他却硬生生地闯进我的梦里。一个女孩喜欢一个男人时总是不管不顾。|无\\n我|我跟他说我总是想一个人，想得什么也干不下去，他有点蒙：“是谁？”我说：“是你。”说这话是在一个周末的傍晚，我在他的宿舍门口堵住了他。|无\\n音乐老师|他抬手挠了挠头发，像不认识似的上下打量了我一眼，嘴角微微朝左侧一歪：“这可不行。”|无',\n",
       " 'errors': [],\n",
       " 'validated_data': {}}"
      ]
     },
     "execution_count": 25,
     "metadata": {},
     "output_type": "execute_result"
    }
   ],
   "source": [
    "response"
   ]
  }
 ],
 "metadata": {
  "kernelspec": {
   "display_name": "gpt",
   "language": "python",
   "name": "gpt"
  },
  "language_info": {
   "codemirror_mode": {
    "name": "ipython",
    "version": 3
   },
   "file_extension": ".py",
   "mimetype": "text/x-python",
   "name": "python",
   "nbconvert_exporter": "python",
   "pygments_lexer": "ipython3",
   "version": "3.8.17"
  },
  "orig_nbformat": 4
 },
 "nbformat": 4,
 "nbformat_minor": 2
}
